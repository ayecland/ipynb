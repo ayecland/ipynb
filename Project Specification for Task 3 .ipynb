{
 "cells": [
  {
   "cell_type": "markdown",
   "metadata": {},
   "source": [
    "# Task 3 Using Decision Trees and Random Forest"
   ]
  },
  {
   "cell_type": "raw",
   "metadata": {},
   "source": [
    "Suppose that you've been emploed by a dog food company. The company want to predict which products of their dog food are spoiling much quicker than intended! \n",
    "\n",
    "In general, the dog food contains four mixed preservative chemicals, (A, B, C, D). The food scientists believe one of the A,B,C, or D preservatives is causing the problem, but need your help to figure out which one, as there are so many combinations (or percentages) associated with (A, B, C, and D).\n",
    "\n",
    "Use Machine Learning with Decision Tree and Random Forest to find out which parameter had the most predicitive power, thus finding out which chemical causes the early spoiling! \n",
    "\n",
    "So, you need to create a model and then find out how you can decide which preservative chemical is the problem!\n",
    "\n",
    "The dataset file, 'dog_food.csv', is given in the current directory. Its structure is like as\n",
    "\n",
    "* Pres_A : Percentage of preservative A in the mix\n",
    "* Pres_B : Percentage of preservative B in the mix\n",
    "* Pres_C : Percentage of preservative C in the mix\n",
    "* Pres_D : Percentage of preservative D in the mix\n",
    "\n",
    "* Spoiled: Label indicating whether or not the dog food product was spoiled.\n",
    "___\n",
    "\n",
    "\n",
    "**You are requested to use Machine Learning, say using Deisiion Trees and Randowm Forest, to solve this problem.\n",
    "There are two platforms avaiable for you to do this project\n",
    "\n",
    "1). Spark\n",
    "2). Scikit-Learn\n",
    "\n",
    "You may choose either one of them.\n",
    "\n",
    "The following cells present \"some hints\" on key modules and classes to be used,if you chose Spark.\n",
    "\n",
    "Once the model is well trained, you may predict a combination instance (A, B, C, D) to predict if it is\n",
    "\"Spoiled\" or not. So, it's a supervised machine learning.\n",
    "\n",
    "* Notes:\n",
    "\n",
    "I have put some key modules and classes in the following cells, you are better to understand them before\n",
    "  you write the codes."
   ]
  },
  {
   "cell_type": "code",
   "execution_count": 1,
   "metadata": {},
   "outputs": [],
   "source": [
    "# You need import some key modules and classes, if you use Spark\n",
    "\n",
    "from pyspark.sql import SparkSession\n",
    "spark = SparkSession.builder.appName('dogfood').getOrCreate()\n",
    "\n",
    "\n",
    "# more codes ..."
   ]
  },
  {
   "cell_type": "code",
   "execution_count": 2,
   "metadata": {},
   "outputs": [],
   "source": [
    "# Load training data\n",
    "data = spark.read.csv('dog_food.csv',inferSchema=True,header=True)\n",
    "\n",
    "# more codes .."
   ]
  },
  {
   "cell_type": "code",
   "execution_count": 6,
   "metadata": {},
   "outputs": [],
   "source": [
    "# Import VectorAssembler and Vectors\n",
    "from pyspark.ml.linalg import Vectors\n",
    "from pyspark.ml.feature import VectorAssembler\n",
    "\n",
    "# more codes .."
   ]
  },
  {
   "cell_type": "code",
   "execution_count": 10,
   "metadata": {},
   "outputs": [],
   "source": [
    "from pyspark.ml.classification import RandomForestClassifier,DecisionTreeClassifier\n",
    "\n",
    "# more codes ..."
   ]
  },
  {
   "cell_type": "code",
   "execution_count": null,
   "metadata": {},
   "outputs": [],
   "source": [
    "# Prediction ...\n",
    "# Give some instances to predict\n",
    "\n",
    "\n"
   ]
  }
 ],
 "metadata": {
  "anaconda-cloud": {},
  "kernelspec": {
   "display_name": "py35",
   "language": "python",
   "name": "py35"
  },
  "language_info": {
   "codemirror_mode": {
    "name": "ipython",
    "version": 3
   },
   "file_extension": ".py",
   "mimetype": "text/x-python",
   "name": "python",
   "nbconvert_exporter": "python",
   "pygments_lexer": "ipython3",
   "version": "3.5.4"
  }
 },
 "nbformat": 4,
 "nbformat_minor": 1
}
