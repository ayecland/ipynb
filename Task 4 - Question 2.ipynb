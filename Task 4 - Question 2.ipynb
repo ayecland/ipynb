{
 "cells": [
  {
   "cell_type": "markdown",
   "metadata": {},
   "source": [
    "# Question 2"
   ]
  },
  {
   "cell_type": "raw",
   "metadata": {},
   "source": [
    "\n",
    "Take or find a picture of a dog or cat and use our CNN model implemneted in Lab 7, called cnn.ipynb, \n",
    "associated with its dataset, to predict what it is.\n",
    "\n",
    "If you cannot get a picture by yourself, I have provided a new subfolder in the dataset directory,\n",
    "called \"single_prediction\" , that contains one image for dog and another for cat.\n",
    "\n",
    "To answer this question, you need to do two actions:\n",
    "\n",
    "(i)  Please review the cnn.ipynb in Lab 7.\n",
    "\n",
    "(ii) To make a prediction of either dog or cat with your input image, please put your solution (or codes) \n",
    "     into a copy of the progam, as given below.\n",
    "\n"
   ]
  },
  {
   "cell_type": "code",
   "execution_count": 9,
   "metadata": {},
   "outputs": [
    {
     "name": "stdout",
     "output_type": "stream",
     "text": [
      "Found 8000 images belonging to 2 classes.\n",
      "Found 2000 images belonging to 2 classes.\n",
      "Epoch 1/25\n",
      "8000/8000 [==============================] - 2311s 289ms/step - loss: 0.3600 - acc: 0.8312 - val_loss: 0.5970 - val_acc: 0.7995\n",
      "Epoch 2/25\n",
      "8000/8000 [==============================] - 2216s 277ms/step - loss: 0.1004 - acc: 0.9623 - val_loss: 0.8979 - val_acc: 0.8110\n",
      "Epoch 3/25\n",
      "8000/8000 [==============================] - 2092s 261ms/step - loss: 0.0509 - acc: 0.9822 - val_loss: 1.1281 - val_acc: 0.8071\n",
      "Epoch 4/25\n",
      "8000/8000 [==============================] - 2082s 260ms/step - loss: 0.0370 - acc: 0.9869 - val_loss: 1.2591 - val_acc: 0.8079\n",
      "Epoch 5/25\n",
      "8000/8000 [==============================] - 2083s 260ms/step - loss: 0.0299 - acc: 0.9898 - val_loss: 1.3548 - val_acc: 0.8112\n",
      "Epoch 6/25\n",
      "8000/8000 [==============================] - 2082s 260ms/step - loss: 0.0252 - acc: 0.9918 - val_loss: 1.2966 - val_acc: 0.8125\n",
      "Epoch 7/25\n",
      "8000/8000 [==============================] - 2081s 260ms/step - loss: 0.0209 - acc: 0.9932 - val_loss: 1.3136 - val_acc: 0.8169\n",
      "Epoch 8/25\n",
      "8000/8000 [==============================] - 2082s 260ms/step - loss: 0.0196 - acc: 0.9938 - val_loss: 1.5013 - val_acc: 0.8006\n",
      "Epoch 9/25\n",
      "8000/8000 [==============================] - 2081s 260ms/step - loss: 0.0167 - acc: 0.9946 - val_loss: 1.4985 - val_acc: 0.8017\n",
      "Epoch 10/25\n",
      "8000/8000 [==============================] - 2084s 260ms/step - loss: 0.0167 - acc: 0.9950 - val_loss: 1.5448 - val_acc: 0.8016\n",
      "Epoch 11/25\n",
      "8000/8000 [==============================] - 2086s 261ms/step - loss: 0.0141 - acc: 0.9954 - val_loss: 1.5385 - val_acc: 0.8132\n",
      "Epoch 12/25\n",
      "8000/8000 [==============================] - 2087s 261ms/step - loss: 0.0139 - acc: 0.9957 - val_loss: 1.7414 - val_acc: 0.7988\n",
      "Epoch 13/25\n",
      "8000/8000 [==============================] - 2088s 261ms/step - loss: 0.0135 - acc: 0.9958 - val_loss: 1.6571 - val_acc: 0.8008\n",
      "Epoch 14/25\n",
      "8000/8000 [==============================] - 2086s 261ms/step - loss: 0.0117 - acc: 0.9964 - val_loss: 1.8049 - val_acc: 0.7893\n",
      "Epoch 15/25\n",
      "8000/8000 [==============================] - 2351s 294ms/step - loss: 0.0114 - acc: 0.9966 - val_loss: 1.7631 - val_acc: 0.7992\n",
      "Epoch 16/25\n",
      "8000/8000 [==============================] - 3233s 404ms/step - loss: 0.0113 - acc: 0.9966 - val_loss: 1.6930 - val_acc: 0.8086\n",
      "Epoch 17/25\n",
      "8000/8000 [==============================] - 2137s 267ms/step - loss: 0.0107 - acc: 0.9967 - val_loss: 1.7721 - val_acc: 0.8064\n",
      "Epoch 18/25\n",
      "8000/8000 [==============================] - 2251s 281ms/step - loss: 0.0092 - acc: 0.9973 - val_loss: 1.8013 - val_acc: 0.8059\n",
      "Epoch 19/25\n",
      "8000/8000 [==============================] - 2288s 286ms/step - loss: 0.0102 - acc: 0.9971 - val_loss: 1.5871 - val_acc: 0.8121\n",
      "Epoch 20/25\n",
      "8000/8000 [==============================] - 2285s 286ms/step - loss: 0.0094 - acc: 0.9974 - val_loss: 1.6554 - val_acc: 0.8146\n",
      "Epoch 21/25\n",
      "8000/8000 [==============================] - 2124s 266ms/step - loss: 0.0086 - acc: 0.9975 - val_loss: 1.7104 - val_acc: 0.8060\n",
      "Epoch 22/25\n",
      "8000/8000 [==============================] - 2089s 261ms/step - loss: 0.0081 - acc: 0.9975 - val_loss: 1.7681 - val_acc: 0.8009\n",
      "Epoch 23/25\n",
      "8000/8000 [==============================] - 2090s 261ms/step - loss: 0.0084 - acc: 0.9975 - val_loss: 1.7609 - val_acc: 0.8081\n",
      "Epoch 24/25\n",
      "8000/8000 [==============================] - 2093s 262ms/step - loss: 0.0072 - acc: 0.9979 - val_loss: 1.8843 - val_acc: 0.8045\n",
      "Epoch 25/25\n",
      "8000/8000 [==============================] - 2104s 263ms/step - loss: 0.0081 - acc: 0.9976 - val_loss: 1.8715 - val_acc: 0.8096\n"
     ]
    },
    {
     "data": {
      "text/plain": [
       "<keras.callbacks.History at 0x21542267a20>"
      ]
     },
     "execution_count": 9,
     "metadata": {},
     "output_type": "execute_result"
    }
   ],
   "source": [
    "# cnn.ipynb, building a Convolutional Neural Network\n",
    "\n",
    "# Installing Theano\n",
    "# pip install --upgrade --no-deps git+git://github.com/Theano/Theano.git\n",
    "\n",
    "# Installing Tensorflow\n",
    "# pip install tensorflow\n",
    "\n",
    "# Installing Keras\n",
    "# pip install --upgrade keras\n",
    "\n",
    "# Part 1 - Building the CNN\n",
    "\n",
    "# Importing the Keras libraries and packages\n",
    "from keras.models import Sequential\n",
    "from keras.layers import Conv2D\n",
    "from keras.layers import MaxPooling2D\n",
    "from keras.layers import Flatten\n",
    "from keras.layers import Dense\n",
    "\n",
    "# Initialising the CNN\n",
    "classifier = Sequential()\n",
    "\n",
    "# Step 1 - Convolution\n",
    "classifier.add(Conv2D(32, (3, 3), input_shape = (64, 64, 3), activation = 'relu'))\n",
    "\n",
    "# Step 2 - Pooling\n",
    "classifier.add(MaxPooling2D(pool_size = (2, 2)))\n",
    "\n",
    "# Adding a second convolutional layer\n",
    "classifier.add(Conv2D(32, (3, 3), activation = 'relu'))\n",
    "classifier.add(MaxPooling2D(pool_size = (2, 2)))\n",
    "\n",
    "# Step 3 - Flattening\n",
    "classifier.add(Flatten())\n",
    "\n",
    "# Step 4 - Full connection\n",
    "classifier.add(Dense(units = 128, activation = 'relu'))\n",
    "classifier.add(Dense(units = 1, activation = 'sigmoid'))\n",
    "\n",
    "# Compiling the CNN\n",
    "classifier.compile(optimizer = 'adam', loss = 'binary_crossentropy', metrics = ['accuracy'])\n",
    "\n",
    "# Part 2 - Fitting the CNN to the images\n",
    "\n",
    "from keras.preprocessing.image import ImageDataGenerator\n",
    "from PIL import Image\n",
    "\n",
    "train_datagen = ImageDataGenerator(rescale = 1./255,\n",
    "                                   shear_range = 0.2,\n",
    "                                   zoom_range = 0.2,\n",
    "                                   horizontal_flip = True)\n",
    "\n",
    "test_datagen = ImageDataGenerator(rescale = 1./255)\n",
    "\n",
    "training_set = train_datagen.flow_from_directory('dataset\\\\training_set',\n",
    "                                                 target_size = (64, 64),\n",
    "                                                 batch_size = 32,\n",
    "                                                 class_mode = 'binary')\n",
    "\n",
    "test_set = test_datagen.flow_from_directory('dataset\\\\test_set',\n",
    "                                            target_size = (64, 64),\n",
    "                                            batch_size = 32,\n",
    "                                            class_mode = 'binary')\n",
    "\n",
    "classifier.fit_generator(training_set,\n",
    "                         steps_per_epoch = 8000,\n",
    "                         epochs = 25,\n",
    "                         validation_data = test_set,\n",
    "                         validation_steps = 2000)\n",
    "\n",
    "# continue your additional work"
   ]
  },
  {
   "cell_type": "markdown",
   "metadata": {},
   "source": [
    "You will add your codes to the following cell"
   ]
  },
  {
   "cell_type": "code",
   "execution_count": 15,
   "metadata": {},
   "outputs": [
    {
     "name": "stdout",
     "output_type": "stream",
     "text": [
      "[[1.]]\n",
      "[[0.]]\n"
     ]
    }
   ],
   "source": [
    "# Part 3 - Making new predictions\n",
    "\n",
    "import numpy as np\n",
    "from keras.preprocessing import image\n",
    "from PIL import Image\n",
    "### put your codes here for making a prediction of either dog or cat ###\n",
    "\n",
    "dog = Image.open(\"dataset\\\\single_prediction\\\\cat_or_dog_1.jpg\")\n",
    "dog = image.img_to_array(dog.resize((64,64)))\n",
    "dog = dog.reshape((1,64,64,3))\n",
    "\n",
    "cat = Image.open(\"dataset\\\\single_prediction\\\\cat_or_dog_2.jpg\")\n",
    "cat = image.img_to_array(cat.resize((64,64)))\n",
    "cat = cat.reshape((1,64,64,3))\n",
    "\n",
    "print(classifier.predict(dog))\n",
    "print(classifier.predict(cat))"
   ]
  },
  {
   "cell_type": "code",
   "execution_count": 16,
   "metadata": {},
   "outputs": [],
   "source": [
    "classifier.save(\"dog_cat.h5\")"
   ]
  },
  {
   "cell_type": "code",
   "execution_count": 26,
   "metadata": {},
   "outputs": [
    {
     "name": "stdout",
     "output_type": "stream",
     "text": [
      "[[0.]]\n"
     ]
    }
   ],
   "source": [
    "tt = Image.open(\"dataset\\\\training_set\\\\cats\\\\cat.1.jpg\")\n",
    "tt = image.img_to_array(tt.resize((64,64)))\n",
    "tt = tt.reshape((1,64,64,3))\n",
    "print(classifier.predict(tt))"
   ]
  },
  {
   "cell_type": "code",
   "execution_count": null,
   "metadata": {},
   "outputs": [],
   "source": []
  }
 ],
 "metadata": {
  "kernelspec": {
   "display_name": "Python 3",
   "language": "python",
   "name": "python3"
  },
  "language_info": {
   "codemirror_mode": {
    "name": "ipython",
    "version": 3
   },
   "file_extension": ".py",
   "mimetype": "text/x-python",
   "name": "python",
   "nbconvert_exporter": "python",
   "pygments_lexer": "ipython3",
   "version": "3.7.6"
  }
 },
 "nbformat": 4,
 "nbformat_minor": 2
}
