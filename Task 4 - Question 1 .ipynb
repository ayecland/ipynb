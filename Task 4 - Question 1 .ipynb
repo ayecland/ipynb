{
 "cells": [
  {
   "cell_type": "markdown",
   "metadata": {},
   "source": [
    "# Question 1:"
   ]
  },
  {
   "cell_type": "raw",
   "metadata": {},
   "source": [
    "\n",
    "In Lab 6, you have studied a sample of using ANN for classification from the notebook, ann.ipynb, with dataset \n",
    "'Churn_Modelling.csv', where a detailed explanation and comments are included.\n",
    "\n",
    "Please review this notebook at first.\n",
    "\n",
    "In this question, you are asked to use this already implemented ANN model to predict if the customer with the following informations will leave the bank: \n",
    "\n",
    "***\n",
    "\n",
    "Geography: France\n",
    "Credit Score: 600\n",
    "Gender: Male\n",
    "Age: 40 years old\n",
    "Tenure: 3 years\n",
    "Balance: $60000\n",
    "Number of Products: 2\n",
    "Does this customer have a credit card ? Yes\n",
    "Is this customer an Active Member: Yes\n",
    "Estimated Salary: $50000\n",
    "\n",
    "Should we say goodbye to that customer ?\n",
    "\n",
    "***\n",
    "\n",
    "So, in order to achieve this, you need to add or insert some codes to the existing program, as shown below.\n",
    "\n",
    "\n"
   ]
  },
  {
   "cell_type": "code",
   "execution_count": 1,
   "metadata": {},
   "outputs": [],
   "source": [
    "\n",
    "# The most comments have removed from the notebook, ann.ipynb, given in Lab 6, for simplicity.\n",
    "\n",
    "\n",
    "# ann.ipynb\n",
    "\n",
    "# Installing Theano\n",
    "# pip install --upgrade --no-deps git+git://github.com/Theano/Theano.git\n",
    "\n",
    "# Installing Tensorflow\n",
    "# pip install tensorflow\n",
    "\n",
    "# Installing Keras\n",
    "# pip install --upgrade keras\n",
    "\n",
    "# Part 1 - Data Preprocessing\n",
    "\n",
    "# Importing the libraries\n",
    "import numpy as np\n",
    "import matplotlib.pyplot as plt\n",
    "import pandas as pd"
   ]
  },
  {
   "cell_type": "code",
   "execution_count": 2,
   "metadata": {},
   "outputs": [],
   "source": [
    "\n",
    "# Importing the dataset\n",
    "dataset = pd.read_csv('Churn_Modelling.csv')\n",
    "X = dataset.iloc[:, 3:13].values\n",
    "y = dataset.iloc[:, 13].values\n",
    "\n",
    "# Encoding categorical data\n",
    "from sklearn.preprocessing import LabelEncoder, OneHotEncoder\n",
    "labelencoder_X_1 = LabelEncoder()\n",
    "X[:, 1] = labelencoder_X_1.fit_transform(X[:, 1])\n",
    "labelencoder_X_2 = LabelEncoder()\n",
    "X[:, 2] = labelencoder_X_2.fit_transform(X[:, 2])\n",
    "onehotencoder = OneHotEncoder(categorical_features = [1])\n",
    "X = onehotencoder.fit_transform(X).toarray()\n",
    "X = X[:, 1:]\n",
    "\n",
    "# Splitting the dataset into the Training set and Test set\n",
    "from sklearn.model_selection import train_test_split\n",
    "X_train, X_test, y_train, y_test = train_test_split(X, y, test_size = 0.2, random_state = 0)\n",
    "\n",
    "# Feature Scaling\n",
    "from sklearn.preprocessing import StandardScaler\n",
    "sc = StandardScaler()\n",
    "X_train = sc.fit_transform(X_train)\n",
    "X_test = sc.transform(X_test)\n"
   ]
  },
  {
   "cell_type": "code",
   "execution_count": 3,
   "metadata": {},
   "outputs": [
    {
     "name": "stderr",
     "output_type": "stream",
     "text": [
      "Using TensorFlow backend.\n"
     ]
    },
    {
     "name": "stdout",
     "output_type": "stream",
     "text": [
      "Epoch 1/100\n",
      "8000/8000 [==============================] - 1s 155us/step - loss: 0.4809 - acc: 0.7960\n",
      "Epoch 2/100\n",
      "8000/8000 [==============================] - 1s 122us/step - loss: 0.4280 - acc: 0.7960\n",
      "Epoch 3/100\n",
      "8000/8000 [==============================] - 1s 123us/step - loss: 0.4230 - acc: 0.7960\n",
      "Epoch 4/100\n",
      "8000/8000 [==============================] - 1s 128us/step - loss: 0.4195 - acc: 0.8184\n",
      "Epoch 5/100\n",
      "8000/8000 [==============================] - 1s 125us/step - loss: 0.4167 - acc: 0.8244\n",
      "Epoch 6/100\n",
      "8000/8000 [==============================] - 1s 131us/step - loss: 0.4150 - acc: 0.8300\n",
      "Epoch 7/100\n",
      "8000/8000 [==============================] - 1s 126us/step - loss: 0.4132 - acc: 0.8300\n",
      "Epoch 8/100\n",
      "8000/8000 [==============================] - 1s 125us/step - loss: 0.4118 - acc: 0.8326\n",
      "Epoch 9/100\n",
      "8000/8000 [==============================] - 1s 121us/step - loss: 0.4109 - acc: 0.8332\n",
      "Epoch 10/100\n",
      "8000/8000 [==============================] - 1s 123us/step - loss: 0.4096 - acc: 0.8337\n",
      "Epoch 11/100\n",
      "8000/8000 [==============================] - 1s 122us/step - loss: 0.4086 - acc: 0.8340\n",
      "Epoch 12/100\n",
      "8000/8000 [==============================] - 1s 130us/step - loss: 0.4080 - acc: 0.8345\n",
      "Epoch 13/100\n",
      "8000/8000 [==============================] - 1s 122us/step - loss: 0.4070 - acc: 0.8345\n",
      "Epoch 14/100\n",
      "8000/8000 [==============================] - 1s 122us/step - loss: 0.4068 - acc: 0.8337\n",
      "Epoch 15/100\n",
      "8000/8000 [==============================] - 1s 121us/step - loss: 0.4060 - acc: 0.8340\n",
      "Epoch 16/100\n",
      "8000/8000 [==============================] - 1s 122us/step - loss: 0.4058 - acc: 0.8350\n",
      "Epoch 17/100\n",
      "8000/8000 [==============================] - 1s 122us/step - loss: 0.4056 - acc: 0.8346\n",
      "Epoch 18/100\n",
      "8000/8000 [==============================] - 1s 124us/step - loss: 0.4051 - acc: 0.8347\n",
      "Epoch 19/100\n",
      "8000/8000 [==============================] - 1s 123us/step - loss: 0.4047 - acc: 0.8352\n",
      "Epoch 20/100\n",
      "8000/8000 [==============================] - 1s 126us/step - loss: 0.4048 - acc: 0.8336\n",
      "Epoch 21/100\n",
      "8000/8000 [==============================] - 1s 123us/step - loss: 0.4042 - acc: 0.8344\n",
      "Epoch 22/100\n",
      "8000/8000 [==============================] - 1s 127us/step - loss: 0.4043 - acc: 0.8345\n",
      "Epoch 23/100\n",
      "8000/8000 [==============================] - 1s 126us/step - loss: 0.4042 - acc: 0.8351\n",
      "Epoch 24/100\n",
      "8000/8000 [==============================] - 1s 125us/step - loss: 0.4036 - acc: 0.8339\n",
      "Epoch 25/100\n",
      "8000/8000 [==============================] - 1s 124us/step - loss: 0.4037 - acc: 0.8344\n",
      "Epoch 26/100\n",
      "8000/8000 [==============================] - 1s 128us/step - loss: 0.4038 - acc: 0.8341\n",
      "Epoch 27/100\n",
      "8000/8000 [==============================] - 1s 132us/step - loss: 0.4035 - acc: 0.8344\n",
      "Epoch 28/100\n",
      "8000/8000 [==============================] - 1s 123us/step - loss: 0.4033 - acc: 0.8345\n",
      "Epoch 29/100\n",
      "8000/8000 [==============================] - 1s 128us/step - loss: 0.4030 - acc: 0.8342\n",
      "Epoch 30/100\n",
      "8000/8000 [==============================] - 1s 133us/step - loss: 0.4033 - acc: 0.8337\n",
      "Epoch 31/100\n",
      "8000/8000 [==============================] - 1s 130us/step - loss: 0.4032 - acc: 0.8345\n",
      "Epoch 32/100\n",
      "8000/8000 [==============================] - 1s 144us/step - loss: 0.4033 - acc: 0.8357\n",
      "Epoch 33/100\n",
      "8000/8000 [==============================] - 1s 139us/step - loss: 0.4031 - acc: 0.8334\n",
      "Epoch 34/100\n",
      "8000/8000 [==============================] - 1s 121us/step - loss: 0.4027 - acc: 0.8341\n",
      "Epoch 35/100\n",
      "8000/8000 [==============================] - 1s 118us/step - loss: 0.4029 - acc: 0.8349\n",
      "Epoch 36/100\n",
      "8000/8000 [==============================] - 1s 128us/step - loss: 0.4030 - acc: 0.8339\n",
      "Epoch 37/100\n",
      "8000/8000 [==============================] - 1s 125us/step - loss: 0.4027 - acc: 0.8349\n",
      "Epoch 38/100\n",
      "8000/8000 [==============================] - 1s 123us/step - loss: 0.4029 - acc: 0.8349\n",
      "Epoch 39/100\n",
      "8000/8000 [==============================] - 1s 119us/step - loss: 0.4022 - acc: 0.8342\n",
      "Epoch 40/100\n",
      "8000/8000 [==============================] - 1s 123us/step - loss: 0.4026 - acc: 0.8339\n",
      "Epoch 41/100\n",
      "8000/8000 [==============================] - 1s 116us/step - loss: 0.4028 - acc: 0.8326\n",
      "Epoch 42/100\n",
      "8000/8000 [==============================] - 1s 119us/step - loss: 0.4027 - acc: 0.8336\n",
      "Epoch 43/100\n",
      "8000/8000 [==============================] - 1s 116us/step - loss: 0.4022 - acc: 0.8345\n",
      "Epoch 44/100\n",
      "8000/8000 [==============================] - 1s 118us/step - loss: 0.4024 - acc: 0.8341\n",
      "Epoch 45/100\n",
      "8000/8000 [==============================] - 1s 116us/step - loss: 0.4022 - acc: 0.8354\n",
      "Epoch 46/100\n",
      "8000/8000 [==============================] - 1s 118us/step - loss: 0.4023 - acc: 0.8355\n",
      "Epoch 47/100\n",
      "8000/8000 [==============================] - 1s 122us/step - loss: 0.4026 - acc: 0.8349\n",
      "Epoch 48/100\n",
      "8000/8000 [==============================] - 1s 116us/step - loss: 0.4026 - acc: 0.8341\n",
      "Epoch 49/100\n",
      "8000/8000 [==============================] - 1s 122us/step - loss: 0.4024 - acc: 0.8345\n",
      "Epoch 50/100\n",
      "8000/8000 [==============================] - 1s 124us/step - loss: 0.4024 - acc: 0.8344\n",
      "Epoch 51/100\n",
      "8000/8000 [==============================] - 1s 121us/step - loss: 0.4021 - acc: 0.8340\n",
      "Epoch 52/100\n",
      "8000/8000 [==============================] - 1s 126us/step - loss: 0.4027 - acc: 0.8345\n",
      "Epoch 53/100\n",
      "8000/8000 [==============================] - 1s 129us/step - loss: 0.4021 - acc: 0.8341\n",
      "Epoch 54/100\n",
      "8000/8000 [==============================] - 1s 135us/step - loss: 0.4021 - acc: 0.8351\n",
      "Epoch 55/100\n",
      "8000/8000 [==============================] - 1s 131us/step - loss: 0.4019 - acc: 0.8339\n",
      "Epoch 56/100\n",
      "8000/8000 [==============================] - 1s 123us/step - loss: 0.4023 - acc: 0.8342\n",
      "Epoch 57/100\n",
      "8000/8000 [==============================] - 1s 124us/step - loss: 0.4019 - acc: 0.8340\n",
      "Epoch 58/100\n",
      "8000/8000 [==============================] - 1s 126us/step - loss: 0.4021 - acc: 0.8340\n",
      "Epoch 59/100\n",
      "8000/8000 [==============================] - 1s 127us/step - loss: 0.4022 - acc: 0.8334\n",
      "Epoch 60/100\n",
      "8000/8000 [==============================] - 1s 130us/step - loss: 0.4024 - acc: 0.8347\n",
      "Epoch 61/100\n",
      "8000/8000 [==============================] - 1s 126us/step - loss: 0.4023 - acc: 0.8350\n",
      "Epoch 62/100\n",
      "8000/8000 [==============================] - 1s 123us/step - loss: 0.4019 - acc: 0.8342\n",
      "Epoch 63/100\n",
      "8000/8000 [==============================] - 1s 124us/step - loss: 0.4018 - acc: 0.8331\n",
      "Epoch 64/100\n",
      "8000/8000 [==============================] - 1s 124us/step - loss: 0.4015 - acc: 0.8334\n",
      "Epoch 65/100\n",
      "8000/8000 [==============================] - 1s 123us/step - loss: 0.4018 - acc: 0.8355\n",
      "Epoch 66/100\n",
      "8000/8000 [==============================] - 1s 149us/step - loss: 0.4018 - acc: 0.8360\n",
      "Epoch 67/100\n",
      "8000/8000 [==============================] - 1s 128us/step - loss: 0.4017 - acc: 0.8354\n",
      "Epoch 68/100\n",
      "8000/8000 [==============================] - 1s 122us/step - loss: 0.4021 - acc: 0.8341\n",
      "Epoch 69/100\n",
      "8000/8000 [==============================] - 1s 122us/step - loss: 0.4020 - acc: 0.8329\n",
      "Epoch 70/100\n",
      "8000/8000 [==============================] - 1s 125us/step - loss: 0.4015 - acc: 0.8349\n",
      "Epoch 71/100\n",
      "8000/8000 [==============================] - 1s 124us/step - loss: 0.4016 - acc: 0.8341\n",
      "Epoch 72/100\n",
      "8000/8000 [==============================] - 1s 120us/step - loss: 0.4022 - acc: 0.8342\n",
      "Epoch 73/100\n",
      "8000/8000 [==============================] - 1s 121us/step - loss: 0.4019 - acc: 0.8341\n",
      "Epoch 74/100\n",
      "8000/8000 [==============================] - 1s 121us/step - loss: 0.4022 - acc: 0.8344\n",
      "Epoch 75/100\n",
      "8000/8000 [==============================] - 1s 130us/step - loss: 0.4014 - acc: 0.8346\n",
      "Epoch 76/100\n",
      "8000/8000 [==============================] - 1s 138us/step - loss: 0.4019 - acc: 0.8337\n",
      "Epoch 77/100\n",
      "8000/8000 [==============================] - 1s 126us/step - loss: 0.4021 - acc: 0.8332\n",
      "Epoch 78/100\n",
      "8000/8000 [==============================] - 1s 125us/step - loss: 0.4016 - acc: 0.8347\n",
      "Epoch 79/100\n",
      "8000/8000 [==============================] - 1s 125us/step - loss: 0.4018 - acc: 0.8342\n",
      "Epoch 80/100\n",
      "8000/8000 [==============================] - 1s 125us/step - loss: 0.4019 - acc: 0.8356\n",
      "Epoch 81/100\n",
      "8000/8000 [==============================] - 1s 124us/step - loss: 0.4016 - acc: 0.8344\n",
      "Epoch 82/100\n",
      "8000/8000 [==============================] - 1s 121us/step - loss: 0.4021 - acc: 0.8340\n",
      "Epoch 83/100\n",
      "8000/8000 [==============================] - 1s 120us/step - loss: 0.4015 - acc: 0.8335\n",
      "Epoch 84/100\n",
      "8000/8000 [==============================] - 1s 121us/step - loss: 0.4022 - acc: 0.8346\n",
      "Epoch 85/100\n",
      "8000/8000 [==============================] - 1s 119us/step - loss: 0.4013 - acc: 0.8336\n",
      "Epoch 86/100\n",
      "8000/8000 [==============================] - 1s 125us/step - loss: 0.4021 - acc: 0.8342\n",
      "Epoch 87/100\n",
      "8000/8000 [==============================] - 1s 140us/step - loss: 0.4018 - acc: 0.8362\n",
      "Epoch 88/100\n",
      "8000/8000 [==============================] - 1s 137us/step - loss: 0.4017 - acc: 0.8341\n",
      "Epoch 89/100\n",
      "8000/8000 [==============================] - 1s 168us/step - loss: 0.4018 - acc: 0.8341\n",
      "Epoch 90/100\n",
      "8000/8000 [==============================] - 1s 156us/step - loss: 0.4017 - acc: 0.8332\n",
      "Epoch 91/100\n",
      "8000/8000 [==============================] - 1s 128us/step - loss: 0.4019 - acc: 0.8334\n",
      "Epoch 92/100\n",
      "8000/8000 [==============================] - 1s 118us/step - loss: 0.4015 - acc: 0.8356\n",
      "Epoch 93/100\n",
      "8000/8000 [==============================] - 1s 118us/step - loss: 0.4016 - acc: 0.8345\n",
      "Epoch 94/100\n",
      "8000/8000 [==============================] - 1s 119us/step - loss: 0.4020 - acc: 0.8351\n",
      "Epoch 95/100\n",
      "8000/8000 [==============================] - 1s 115us/step - loss: 0.4017 - acc: 0.8317\n",
      "Epoch 96/100\n",
      "8000/8000 [==============================] - 1s 118us/step - loss: 0.4017 - acc: 0.8349\n",
      "Epoch 97/100\n",
      "8000/8000 [==============================] - 1s 143us/step - loss: 0.4017 - acc: 0.8354\n",
      "Epoch 98/100\n",
      "8000/8000 [==============================] - 1s 136us/step - loss: 0.4017 - acc: 0.8349\n",
      "Epoch 99/100\n",
      "8000/8000 [==============================] - 1s 156us/step - loss: 0.4018 - acc: 0.8331\n",
      "Epoch 100/100\n",
      "8000/8000 [==============================] - 1s 128us/step - loss: 0.4015 - acc: 0.8342\n"
     ]
    },
    {
     "data": {
      "text/plain": [
       "<keras.callbacks.History at 0x1a8b087d908>"
      ]
     },
     "execution_count": 3,
     "metadata": {},
     "output_type": "execute_result"
    }
   ],
   "source": [
    "\n",
    "# Part 2 - Now let's make the ANN!\n",
    "\n",
    "# Importing the Keras libraries and packages\n",
    "import keras\n",
    "from keras.models import Sequential\n",
    "from keras.layers import Dense\n",
    "\n",
    "# Initialising the ANN\n",
    "classifier = Sequential()\n",
    "\n",
    "# Adding the input layer and the first hidden layer\n",
    "classifier.add(Dense(units = 6, kernel_initializer = 'uniform', activation = 'relu', input_dim = 11))\n",
    "\n",
    "# Adding the second hidden layer\n",
    "classifier.add(Dense(units = 6, kernel_initializer = 'uniform', activation = 'relu'))\n",
    "\n",
    "# Adding the output layer\n",
    "classifier.add(Dense(units = 1, kernel_initializer = 'uniform', activation = 'sigmoid'))\n",
    "\n",
    "# Compiling the ANN\n",
    "classifier.compile(optimizer = 'adam', loss = 'binary_crossentropy', metrics = ['accuracy'])\n",
    "\n",
    "# Fitting the ANN to the Training set\n",
    "classifier.fit(X_train, y_train, batch_size = 10, epochs = 100)"
   ]
  },
  {
   "cell_type": "markdown",
   "metadata": {},
   "source": [
    "You will add codes to the following cell for making prediction"
   ]
  },
  {
   "cell_type": "code",
   "execution_count": 33,
   "metadata": {},
   "outputs": [],
   "source": [
    "dic = {\"Geography\": [\"France\"],\n",
    "            \"Credit Score\": [600],\n",
    "            \"Gender\": [\"Male\"],\n",
    "            \"Age\": [40],\n",
    "            \"Tenure\": [3],\n",
    "            \"Balance\": [60000],\n",
    "            \"Number of Products\": [2],\n",
    "            \"HasCrCard\": [1],\n",
    "            \"IsActiveMember\": [1],\n",
    "            \"Estimated Salary\": [50000]}\n",
    "x_ask = pd.DataFrame(dic).values"
   ]
  },
  {
   "cell_type": "code",
   "execution_count": 37,
   "metadata": {},
   "outputs": [
    {
     "data": {
      "text/html": [
       "<div>\n",
       "<style scoped>\n",
       "    .dataframe tbody tr th:only-of-type {\n",
       "        vertical-align: middle;\n",
       "    }\n",
       "\n",
       "    .dataframe tbody tr th {\n",
       "        vertical-align: top;\n",
       "    }\n",
       "\n",
       "    .dataframe thead th {\n",
       "        text-align: right;\n",
       "    }\n",
       "</style>\n",
       "<table border=\"1\" class=\"dataframe\">\n",
       "  <thead>\n",
       "    <tr style=\"text-align: right;\">\n",
       "      <th></th>\n",
       "      <th>RowNumber</th>\n",
       "      <th>CustomerId</th>\n",
       "      <th>Surname</th>\n",
       "      <th>CreditScore</th>\n",
       "      <th>Geography</th>\n",
       "      <th>Gender</th>\n",
       "      <th>Age</th>\n",
       "      <th>Tenure</th>\n",
       "      <th>Balance</th>\n",
       "      <th>NumOfProducts</th>\n",
       "      <th>HasCrCard</th>\n",
       "      <th>IsActiveMember</th>\n",
       "      <th>EstimatedSalary</th>\n",
       "      <th>Exited</th>\n",
       "    </tr>\n",
       "  </thead>\n",
       "  <tbody>\n",
       "    <tr>\n",
       "      <th>0</th>\n",
       "      <td>1</td>\n",
       "      <td>15634602</td>\n",
       "      <td>Hargrave</td>\n",
       "      <td>619</td>\n",
       "      <td>France</td>\n",
       "      <td>Female</td>\n",
       "      <td>42</td>\n",
       "      <td>2</td>\n",
       "      <td>0.00</td>\n",
       "      <td>1</td>\n",
       "      <td>1</td>\n",
       "      <td>1</td>\n",
       "      <td>101348.88</td>\n",
       "      <td>1</td>\n",
       "    </tr>\n",
       "    <tr>\n",
       "      <th>1</th>\n",
       "      <td>2</td>\n",
       "      <td>15647311</td>\n",
       "      <td>Hill</td>\n",
       "      <td>608</td>\n",
       "      <td>Spain</td>\n",
       "      <td>Female</td>\n",
       "      <td>41</td>\n",
       "      <td>1</td>\n",
       "      <td>83807.86</td>\n",
       "      <td>1</td>\n",
       "      <td>0</td>\n",
       "      <td>1</td>\n",
       "      <td>112542.58</td>\n",
       "      <td>0</td>\n",
       "    </tr>\n",
       "  </tbody>\n",
       "</table>\n",
       "</div>"
      ],
      "text/plain": [
       "   RowNumber  CustomerId   Surname  CreditScore Geography  Gender  Age  \\\n",
       "0          1    15634602  Hargrave          619    France  Female   42   \n",
       "1          2    15647311      Hill          608     Spain  Female   41   \n",
       "\n",
       "   Tenure   Balance  NumOfProducts  HasCrCard  IsActiveMember  \\\n",
       "0       2      0.00              1          1               1   \n",
       "1       1  83807.86              1          0               1   \n",
       "\n",
       "   EstimatedSalary  Exited  \n",
       "0        101348.88       1  \n",
       "1        112542.58       0  "
      ]
     },
     "execution_count": 37,
     "metadata": {},
     "output_type": "execute_result"
    }
   ],
   "source": [
    "dataset.head(2)"
   ]
  },
  {
   "cell_type": "code",
   "execution_count": 36,
   "metadata": {},
   "outputs": [
    {
     "data": {
      "text/plain": [
       "array([[0.0000000e+00, 0.0000000e+00, 6.1900000e+02, 0.0000000e+00,\n",
       "        4.2000000e+01, 2.0000000e+00, 0.0000000e+00, 1.0000000e+00,\n",
       "        1.0000000e+00, 1.0000000e+00, 1.0134888e+05],\n",
       "       [0.0000000e+00, 1.0000000e+00, 6.0800000e+02, 0.0000000e+00,\n",
       "        4.1000000e+01, 1.0000000e+00, 8.3807860e+04, 1.0000000e+00,\n",
       "        0.0000000e+00, 1.0000000e+00, 1.1254258e+05]])"
      ]
     },
     "execution_count": 36,
     "metadata": {},
     "output_type": "execute_result"
    }
   ],
   "source": [
    "X[:2]"
   ]
  },
  {
   "cell_type": "code",
   "execution_count": 48,
   "metadata": {},
   "outputs": [],
   "source": [
    "x_ask=np.array([np.array([0.0,0.0,600.0,1.0,\n",
    "      40,3,60000,2,\n",
    "      1,1,50000])])"
   ]
  },
  {
   "cell_type": "code",
   "execution_count": 49,
   "metadata": {},
   "outputs": [
    {
     "data": {
      "text/plain": [
       "(1, 11)"
      ]
     },
     "execution_count": 49,
     "metadata": {},
     "output_type": "execute_result"
    }
   ],
   "source": [
    "x_ask.shape"
   ]
  },
  {
   "cell_type": "code",
   "execution_count": 50,
   "metadata": {},
   "outputs": [],
   "source": [
    "# Part 3 - Making predictions and evaluating the model\n",
    "\n",
    "# Here is the place, where you add the codes for question given at beginning.\n",
    "\n",
    "y_pred = classifier.predict(X_test)\n",
    "y_pred = y_pred>0.5\n",
    "new_prediction = classifier.predict(x_ask)\n",
    "\n",
    "# Making the Confusion Matrix\n",
    "\n",
    "from sklearn.metrics import confusion_matrix\n",
    "cm = confusion_matrix(y_test, y_pred)\n"
   ]
  },
  {
   "cell_type": "code",
   "execution_count": 51,
   "metadata": {},
   "outputs": [
    {
     "data": {
      "text/plain": [
       "array([[False],\n",
       "       [False],\n",
       "       [False],\n",
       "       ...,\n",
       "       [False],\n",
       "       [False],\n",
       "       [False]])"
      ]
     },
     "execution_count": 51,
     "metadata": {},
     "output_type": "execute_result"
    }
   ],
   "source": [
    "y_pred"
   ]
  },
  {
   "cell_type": "code",
   "execution_count": 52,
   "metadata": {},
   "outputs": [
    {
     "data": {
      "text/plain": [
       "array([[1549,   46],\n",
       "       [ 274,  131]], dtype=int64)"
      ]
     },
     "execution_count": 52,
     "metadata": {},
     "output_type": "execute_result"
    }
   ],
   "source": [
    "cm"
   ]
  },
  {
   "cell_type": "code",
   "execution_count": 53,
   "metadata": {},
   "outputs": [
    {
     "data": {
      "text/plain": [
       "array([[0.]], dtype=float32)"
      ]
     },
     "execution_count": 53,
     "metadata": {},
     "output_type": "execute_result"
    }
   ],
   "source": [
    "new_prediction"
   ]
  },
  {
   "cell_type": "code",
   "execution_count": null,
   "metadata": {},
   "outputs": [],
   "source": []
  }
 ],
 "metadata": {
  "kernelspec": {
   "display_name": "Python 3",
   "language": "python",
   "name": "python3"
  },
  "language_info": {
   "codemirror_mode": {
    "name": "ipython",
    "version": 3
   },
   "file_extension": ".py",
   "mimetype": "text/x-python",
   "name": "python",
   "nbconvert_exporter": "python",
   "pygments_lexer": "ipython3",
   "version": "3.7.6"
  }
 },
 "nbformat": 4,
 "nbformat_minor": 2
}
